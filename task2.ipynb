{
 "cells": [
  {
   "cell_type": "code",
   "execution_count": 2,
   "id": "ff1c859d",
   "metadata": {},
   "outputs": [
    {
     "name": "stdout",
     "output_type": "stream",
     "text": [
      "Enter url of a medium article: https://medium.com/@godfreythegreat/stop-telling-people-everything-291764958d11\n",
      "paragraphs text = \n",
      " [<p class=\"be b dw dx dy dz ea eb ec ed ee ef dt\"><span><button class=\"be b dw dx eg dy dz eh ea eb ei ec ed ej ee ef ek el em eo ep eq er es et eu ev ew ex ey ez fa bl fb fc\" data-testid=\"headerSignUpButton\">Sign up</button></span></p>, <p class=\"be b dw dx dy dz ea eb ec ed ee ef dt\"><span><a class=\"af ag ah ai aj ak al am an ao ap aq ar as at\" data-testid=\"headerSignInButton\" href=\"/m/signin?operation=login&amp;redirect=https%3A%2F%2Fmedium.com%2F%40godfreythegreat%2Fstop-telling-people-everything-291764958d11&amp;source=post_page---two_column_layout_nav-----------------------global_nav-----------\" rel=\"noopener follow\">Sign in</a></span></p>, <p class=\"be b dw dx dy dz ea eb ec ed ee ef dt\"><span><button class=\"be b dw dx eg dy dz eh ea eb ei ec ed ej ee ef ek el em eo ep eq er es et eu ev ew ex ey ez fa bl fb fc\" data-testid=\"headerSignUpButton\">Sign up</button></span></p>, <p class=\"be b dw dx dy dz ea eb ec ed ee ef dt\"><span><a class=\"af ag ah ai aj ak al am an ao ap aq ar as at\" data-testid=\"headerSignInButton\" href=\"/m/signin?operation=login&amp;redirect=https%3A%2F%2Fmedium.com%2F%40godfreythegreat%2Fstop-telling-people-everything-291764958d11&amp;source=post_page---two_column_layout_nav-----------------------global_nav-----------\" rel=\"noopener follow\">Sign in</a></span></p>, <p class=\"be b bf z dt\">Member-only story</p>, <p class=\"be b iq ir bj\"><a class=\"af ag ah ai aj ak al am an ao ap aq ar is\" data-testid=\"authorName\" href=\"/@godfreythegreat?source=post_page-----291764958d11--------------------------------\" rel=\"noopener follow\">Godfrey The Great</a></p>, <p class=\"be b iq ir dt\"><span><a class=\"iy iz ah ai aj ak al am an ao ap aq ar eu ja jb\" href=\"/m/signin?actionUrl=https%3A%2F%2Fmedium.com%2F_%2Fsubscribe%2Fuser%2F75cba1a5acdd&amp;operation=register&amp;redirect=https%3A%2F%2Fmedium.com%2F%40godfreythegreat%2Fstop-telling-people-everything-291764958d11&amp;user=Godfrey+The+Great&amp;userId=75cba1a5acdd&amp;source=post_page-75cba1a5acdd----291764958d11---------------------post_header-----------\" rel=\"noopener follow\">Follow</a></span></p>, <p class=\"be b du z dt\"><span class=\"kt\">--</span></p>, <p class=\"be b du z dt\"><span class=\"pw-responses-count lj hw\">153</span></p>, <p class=\"be b bf z dt\">Share</p>, <p class=\"pw-post-body-paragraph mt mu ha mv b mw mx my mz na nb nc nd ne nf ng nh ni nj nk nl nm nn no np nq gt bj\" id=\"c03b\">Most people today can’t shut up.</p>, <p class=\"pw-post-body-paragraph mt mu ha mv b mw mx my mz na nb nc nd ne nf ng nh ni nj nk nl nm nn no np nq gt bj\" id=\"bd8c\">It doesn’t matter what they’re talking about, they’ll let you know about it.</p>, <p class=\"pw-post-body-paragraph mt mu ha mv b mw mx my mz na nb nc nd ne nf ng nh ni nj nk nl nm nn no np nq gt bj\" id=\"caca\">A recent promotion.</p>, <p class=\"pw-post-body-paragraph mt mu ha mv b mw mx my mz na nb nc nd ne nf ng nh ni nj nk nl nm nn no np nq gt bj\" id=\"46f2\">A hot date.</p>, <p class=\"pw-post-body-paragraph mt mu ha mv b mw mx my mz na nb nc nd ne nf ng nh ni nj nk nl nm nn no np nq gt bj\" id=\"fecd\">Or even the weather.</p>, <p class=\"pw-post-body-paragraph mt mu ha mv b mw mx my mz na nb nc nd ne nf ng nh ni nj nk nl nm nn no np nq gt bj\" id=\"e7f8\">Whatever it is, people will always tell others too much.</p>, <p class=\"pw-post-body-paragraph mt mu ha mv b mw mx my mz na nb nc nd ne nf ng nh ni nj nk nl nm nn no np nq gt bj\" id=\"8fe0\">This may seem fine on the surface, but it isn’t.</p>, <p class=\"pw-post-body-paragraph mt mu ha mv b mw mx my mz na nb nc nd ne nf ng nh ni nj nk nl nm nn no np nq gt bj\" id=\"2d50\">You shouldn’t tell people everything.</p>, <p class=\"pw-post-body-paragraph mt mu ha mv b mw mx my mz na nb nc nd ne nf ng nh ni nj nk nl nm nn no np nq gt bj\" id=\"1a67\">Especially your plans.</p>, <p class=\"pw-post-body-paragraph mt mu ha mv b mw mx my mz na nb nc nd ne nf ng nh ni nj nk nl nm nn no np nq gt bj\" id=\"03b9\">When you tell people things without a filter, you’re putting yourself in a vulnerable position.</p>, <p class=\"pw-post-body-paragraph mt mu ha mv b mw mx my mz na nb nc nd ne nf ng nh ni nj nk nl nm nn no np nq gt bj\" id=\"6fcc\">The person you’re speaking to may appear to be a friend.</p>, <p class=\"pw-post-body-paragraph mt mu ha mv b mw mx my mz na nb nc nd ne nf ng nh ni nj nk nl nm nn no np nq gt bj\" id=\"cfb5\">But in truth, they could be a secret enemy.</p>, <p class=\"pw-post-body-paragraph mt mu ha mv b mw mx my mz na nb nc nd ne nf ng nh ni nj nk nl nm nn no np nq gt bj\" id=\"b739\">How many marriages have ended because of an affair with a “best friend”?</p>, <p class=\"pw-post-body-paragraph mt mu ha mv b mw mx my mz na nb nc nd ne nf ng nh ni nj nk nl nm nn no np nq gt bj\" id=\"f0fd\">How many lives have been ruined by unexpected betrayals?</p>, <p class=\"pw-post-body-paragraph mt mu ha mv b mw mx my mz na nb nc nd ne nf ng nh ni nj nk nl nm nn no np nq gt bj\" id=\"7011\">The uncomfortable answer is:</p>, <p class=\"pw-post-body-paragraph mt mu ha mv b mw mx my mz na nb nc nd ne nf ng nh ni nj nk nl nm nn no np nq gt bj\" id=\"cc1e\">A lot.</p>, <p class=\"pw-post-body-paragraph mt mu ha mv b mw mx my mz na nb nc nd ne nf ng nh ni nj nk nl nm nn no np nq gt bj\" id=\"1c30\">Endlessly running your mouth to everyone is stupid.</p>, <p class=\"pw-post-body-paragraph mt mu ha mv b mw mx my mz na nb nc nd ne nf ng nh ni nj nk nl nm nn no np nq gt bj\" id=\"179c\">It doesn’t matter what the content is.</p>, <p class=\"pw-post-body-paragraph mt mu ha mv b mw mx my mz na nb nc nd ne nf ng nh ni nj nk nl nm nn no np nq gt bj\" id=\"e9ec\">If you have a habit of speaking without thinking, you’ll one day reveal sensitive information to someone who shouldn’t hear it.</p>, <p class=\"pw-post-body-paragraph mt mu ha mv b mw mx my mz na nb nc nd ne nf ng nh ni nj nk nl nm nn no np nq gt bj\" id=\"8048\">Imagine if James Bond didn’t have the power to conceal his intentions.</p>, <p class=\"pw-post-body-paragraph mt mu ha mv b mw mx my mz na nb nc nd ne nf ng nh ni nj nk nl nm nn no np nq gt bj\" id=\"1ec8\">He’d have been annihilated by Blofeld in minutes.</p>, <p class=\"pw-post-body-paragraph mt mu ha mv b mw mx my mz na nb nc nd ne nf ng nh ni nj nk nl nm nn no np nq gt bj\" id=\"d528\">If you never want to reveal all your secrets, don’t let your tongue run wild everytime you speak to people.</p>, <p class=\"pw-post-body-paragraph mt mu ha mv b mw mx my mz na nb nc nd ne nf ng nh ni nj nk nl nm nn no np nq gt bj\" id=\"3103\">If you do this, it will be very hard for anyone to conspire against you.</p>, <p class=\"pw-post-body-paragraph mt mu ha mv b mw mx my mz na nb nc nd ne nf ng nh ni nj nk nl nm nn no np nq gt bj\" id=\"6a28\">Never reveal your hand.</p>, <p class=\"pw-post-body-paragraph mt mu ha mv b mw mx my mz na nb nc nd ne nf ng nh ni nj nk nl nm nn no np nq gt bj\" id=\"f601\">Why do you think politicians are so cryptic?</p>, <p class=\"pw-post-body-paragraph mt mu ha mv b mw mx my mz na nb nc nd ne nf ng nh ni nj nk nl nm nn no np nq gt bj\" id=\"ceec\">They know everyone’s out to get them and even their friends could quickly turn into enemies.</p>, <p class=\"be b du z dt\"><span class=\"kt\">--</span></p>, <p class=\"be b du z dt\"><span class=\"kt\">--</span></p>, <p class=\"be b bf z dt\"><span class=\"pw-responses-count lj hw\">153</span></p>, <p class=\"be b bf z bj\"><span class=\"gt\">Building infinite leverage one post at a time. Follow me for fascinating articles on: culture, marketing, life and anything that interests me. @godfrey_thegr8</span></p>, <p class=\"be b du z dt\">Help</p>, <p class=\"be b du z dt\">Status</p>, <p class=\"be b du z dt\">About</p>, <p class=\"be b du z dt\">Careers</p>, <p class=\"be b du z dt\">Blog</p>, <p class=\"be b du z dt\">Privacy</p>, <p class=\"be b du z dt\">Terms</p>, <p class=\"be b du z dt\">Text to speech</p>, <p class=\"be b du z dt\">Teams</p>]\n",
      "stop-telling-people-everything-291764958d11\n",
      "File saved in directory scraped_articles/stop-telling-people-everything-291764958d11.txt\n"
     ]
    }
   ],
   "source": [
    "import os\n",
    "import requests\n",
    "import re\n",
    "import sys\n",
    "from bs4 import BeautifulSoup  # Code here - Import BeautifulSoup library\n",
    "\n",
    "# Code ends here\n",
    "\n",
    "# function to get the html source text of the medium article\n",
    "def get_page():\n",
    "    global url\n",
    "    \n",
    "    # Code here - Ask the user to input \"Enter url of a medium article: \" and collect it in url\n",
    "    url = input(\"Enter url of a medium article: \")\n",
    "    # Code ends here\n",
    "    \n",
    "    # handling possible error\n",
    "    if not re.match(r'https?://medium.com/', url):\n",
    "        print('Please enter a valid website, or make sure it is a medium article')\n",
    "        sys.exit(1)\n",
    "\n",
    "    # Code here - Call get method in requests object, pass url and collect it in res\n",
    "    res = requests.get(url)\n",
    "    # Code ends here\n",
    "\n",
    "    res.raise_for_status()\n",
    "    soup = BeautifulSoup(res.text, 'html.parser')\n",
    "    return soup\n",
    "\n",
    "# function to remove all the html tags and replace some with specific strings\n",
    "def clean(text):\n",
    "    rep = {\"<br>\": \"\\n\", \"<br/>\": \"\\n\", \"<li>\": \"\\n\"}\n",
    "    rep = dict((re.escape(k), v) for k, v in rep.items()) \n",
    "    pattern = re.compile(\"|\".join(rep.keys()))\n",
    "    text = pattern.sub(lambda m: rep[re.escape(m.group(0))], text)\n",
    "    text = re.sub('\\<(.*?)\\>', '', text)\n",
    "    return text\n",
    "\n",
    "def collect_text(soup):\n",
    "    text = f'url: {url}\\n\\n'\n",
    "    para_text = soup.find_all('p')\n",
    "    print(f\"paragraphs text = \\n {para_text}\")\n",
    "    for para in para_text:\n",
    "        text += f\"{para.text}\\n\\n\"\n",
    "    return text\n",
    "\n",
    "# function to save file in the current directory\n",
    "def save_file(text):\n",
    "    if not os.path.exists('./scraped_articles'):\n",
    "        os.mkdir('./scraped_articles')\n",
    "    name = url.split(\"/\")[-1]\n",
    "    print(name)\n",
    "    fname = f'scraped_articles/{name}.txt'\n",
    "    \n",
    "    # Code here - write a file using with (2 lines)\n",
    "    with open(fname, 'w', encoding='utf-8') as file:\n",
    "        file.write(text)\n",
    "    # Code ends here\n",
    "\n",
    "    print(f'File saved in directory {fname}')\n",
    "\n",
    "\n",
    "if __name__ == '__main__':\n",
    "    text = collect_text(get_page())\n",
    "    save_file(text)\n",
    "    "
   ]
  },
  {
   "cell_type": "code",
   "execution_count": null,
   "id": "b3516561",
   "metadata": {},
   "outputs": [],
   "source": []
  }
 ],
 "metadata": {
  "kernelspec": {
   "display_name": "Python 3 (ipykernel)",
   "language": "python",
   "name": "python3"
  },
  "language_info": {
   "codemirror_mode": {
    "name": "ipython",
    "version": 3
   },
   "file_extension": ".py",
   "mimetype": "text/x-python",
   "name": "python",
   "nbconvert_exporter": "python",
   "pygments_lexer": "ipython3",
   "version": "3.11.5"
  }
 },
 "nbformat": 4,
 "nbformat_minor": 5
}
